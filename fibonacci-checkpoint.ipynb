{
 "cells": [
  {
   "cell_type": "code",
   "execution_count": 1,
   "id": "01bdf4b5",
   "metadata": {},
   "outputs": [
    {
     "name": "stdout",
     "output_type": "stream",
     "text": [
      "Enter the number of fibonacci you want: 10\n",
      "0\t1\t1\t2\t3\t5\t8\t13\t21\t34\t"
     ]
    }
   ],
   "source": [
    "# Write a program to generate the Fibonacci sequence of a given number.\n",
    "\n",
    "def main():\n",
    "    num = int(input('Enter the number of fibonacci you want: '))\n",
    "    fibonacci(num)\n",
    "    \n",
    "def fibonacci(num):\n",
    "    first_num = 0\n",
    "    second_num = 1\n",
    "    for i in range(1, num+1):\n",
    "        print(f'{first_num}\\t', end='')\n",
    "        current_num = first_num + second_num\n",
    "        first_num = second_num\n",
    "        second_num = current_num\n",
    "\n",
    "if __name__ == \"__main__\":\n",
    "        main()\n",
    "        "
   ]
  },
  {
   "cell_type": "code",
   "execution_count": null,
   "id": "4008f135",
   "metadata": {},
   "outputs": [],
   "source": []
  }
 ],
 "metadata": {
  "kernelspec": {
   "display_name": "Python 3 (ipykernel)",
   "language": "python",
   "name": "python3"
  },
  "language_info": {
   "codemirror_mode": {
    "name": "ipython",
    "version": 3
   },
   "file_extension": ".py",
   "mimetype": "text/x-python",
   "name": "python",
   "nbconvert_exporter": "python",
   "pygments_lexer": "ipython3",
   "version": "3.9.6"
  }
 },
 "nbformat": 4,
 "nbformat_minor": 5
}
