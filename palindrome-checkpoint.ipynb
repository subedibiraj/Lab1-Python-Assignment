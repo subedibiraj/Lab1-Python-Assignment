{
 "cells": [
  {
   "cell_type": "code",
   "execution_count": 2,
   "id": "d7a8622b",
   "metadata": {},
   "outputs": [
    {
     "name": "stdout",
     "output_type": "stream",
     "text": [
      "Enter any string or number: 58dad85\n",
      "58dad85 is Palindrome!\n"
     ]
    }
   ],
   "source": [
    "# Write a program to check palindrome.\n",
    "\n",
    "def main():\n",
    "    string_or_number = (input('Enter any string or number: '))\n",
    "    palindrome(string_or_number)\n",
    "def palindrome(string_or_number):\n",
    "    reverse = string_or_number[::-1]\n",
    "    if reverse == string_or_number:\n",
    "        print(f'{string_or_number} is Palindrome!')\n",
    "    else:\n",
    "        print(f'{string_or_number} is not Palindrome!')\n",
    "            \n",
    "if __name__ == \"__main__\":\n",
    "        main()"
   ]
  },
  {
   "cell_type": "code",
   "execution_count": null,
   "id": "3aaffec2",
   "metadata": {},
   "outputs": [],
   "source": []
  }
 ],
 "metadata": {
  "kernelspec": {
   "display_name": "Python 3 (ipykernel)",
   "language": "python",
   "name": "python3"
  },
  "language_info": {
   "codemirror_mode": {
    "name": "ipython",
    "version": 3
   },
   "file_extension": ".py",
   "mimetype": "text/x-python",
   "name": "python",
   "nbconvert_exporter": "python",
   "pygments_lexer": "ipython3",
   "version": "3.9.6"
  }
 },
 "nbformat": 4,
 "nbformat_minor": 5
}
