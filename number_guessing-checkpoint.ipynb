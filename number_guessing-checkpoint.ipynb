{
 "cells": [
  {
   "cell_type": "code",
   "execution_count": 1,
   "id": "71b8deab",
   "metadata": {},
   "outputs": [
    {
     "name": "stdout",
     "output_type": "stream",
     "text": [
      "\n",
      "Welcome to the Number Guessing Game!\n",
      "I'm thinking of a number between 1 and 100.\n",
      "Can you guess what it is?\n",
      "Your guess: 24\n",
      "\n",
      "Oops! Your guess is too low!\n",
      "Try again: 48\n",
      "\n",
      "Oops! Your guess is too low!\n",
      "Try again: 77\n",
      "\n",
      "Oops! Your guess is too high!\n",
      "Try again: 64\n",
      "\n",
      "Oops! Your guess is too high!\n",
      "Try again: 58\n",
      "\n",
      "Oops! Your guess is too high!\n",
      "Try again: 52\n",
      "\n",
      "Oops! Your guess is too low!\n",
      "Try again: 55\n",
      "\n",
      "Congratulations! You guessed the right number!\n",
      "The number I was thinking of was 55.\n"
     ]
    }
   ],
   "source": [
    "# Create a number guessing game. Where you have to generate a random number in between 1 to 100 and user have to prompt a number for guess. if its high or low number let the user know and guide them through the process to guess correct number.\n",
    "\n",
    "import random\n",
    "\n",
    "random_int = random.randint(1, 100)\n",
    "\n",
    "def main():\n",
    "    print(\"\\nWelcome to the Number Guessing Game!\")\n",
    "    print(\"I'm thinking of a number between 1 and 100.\")\n",
    "    input_num = int(input('Can you guess what it is?\\nYour guess: '))\n",
    "    check_range(input_num)\n",
    "    \n",
    "def check_range(num):\n",
    "    if num > 100 or num < 1:\n",
    "        print('\\nPlease enter a number within the range (1 to 100)!') \n",
    "        main()\n",
    "    else:\n",
    "        give_feedback(num)\n",
    "        \n",
    "def give_feedback(num):\n",
    "    if num == random_int:\n",
    "        print('\\nCongratulations! You guessed the right number!')\n",
    "        print(f'The number I was thinking of was {random_int}.')\n",
    "    elif num > random_int:\n",
    "        print('\\nOops! Your guess is too high!')\n",
    "        input_num = int(input('Try again: '))\n",
    "        check_range(input_num)\n",
    "    else:\n",
    "        print('\\nOops! Your guess is too low!')\n",
    "        input_num = int(input('Try again: '))\n",
    "        check_range(input_num)\n",
    "             \n",
    "if __name__ == \"__main__\":\n",
    "    main()\n"
   ]
  },
  {
   "cell_type": "code",
   "execution_count": null,
   "id": "9c558522",
   "metadata": {},
   "outputs": [],
   "source": []
  }
 ],
 "metadata": {
  "kernelspec": {
   "display_name": "Python 3 (ipykernel)",
   "language": "python",
   "name": "python3"
  },
  "language_info": {
   "codemirror_mode": {
    "name": "ipython",
    "version": 3
   },
   "file_extension": ".py",
   "mimetype": "text/x-python",
   "name": "python",
   "nbconvert_exporter": "python",
   "pygments_lexer": "ipython3",
   "version": "3.9.6"
  }
 },
 "nbformat": 4,
 "nbformat_minor": 5
}
